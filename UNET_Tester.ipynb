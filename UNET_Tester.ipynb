{
 "cells": [
  {
   "cell_type": "code",
   "execution_count": 34,
   "id": "52ab464b",
   "metadata": {},
   "outputs": [],
   "source": [
    "import h5py\n",
    "import os\n",
    "os.environ[\"TF_CPP_MIN_LOG_LEVEL\"] = \"2\"\n",
    "import tensorflow as tf\n",
    "import pandas as pd\n",
    "from tensorflow import keras\n",
    "from tensorflow.keras import layers\n",
    "import pathlib\n",
    "import matplotlib.pyplot as plt\n",
    "import numpy as np\n",
    "from tensorflow.keras.models import load_model"
   ]
  },
  {
   "cell_type": "code",
   "execution_count": 35,
   "id": "9363bfd2",
   "metadata": {},
   "outputs": [],
   "source": [
    "directory = r'C:\\Users\\Brody\\Documents\\College Material\\Fall 2022\\BIOE 485\\FinalProject\\models\\\\'\n",
    "model_name = r'unet_model_three_epochs_w_shuffle.h5'\n",
    "model = load_model(directory + model_name)"
   ]
  },
  {
   "cell_type": "code",
   "execution_count": 36,
   "id": "8891c6aa",
   "metadata": {},
   "outputs": [],
   "source": [
    "@tf.function(input_signature=[tf.TensorSpec(None, tf.string)])\n",
    "def process_path(file_path):\n",
    "    # need to use non tf functions, call py_function\n",
    "    image, mask = tf.py_function(func=process_path_helper, inp=[file_path], Tout=[tf.float32, tf.float32])\n",
    "    image = tf.reshape(image, (240,240,4))\n",
    "    mask = tf.reshape(mask, (240,240,3))\n",
    "    return image, mask\n",
    "\n",
    "def process_path_helper(file_path):\n",
    "    # arbitrary Python code can be used here\n",
    "    file_path = file_path.numpy().decode('ascii')\n",
    "    f = h5py.File(file_path, 'r') \n",
    "    image = f['image'][()] \n",
    "    mask = f['mask'][()] \n",
    "    f.close()\n",
    "    return image,mask"
   ]
  },
  {
   "cell_type": "code",
   "execution_count": 37,
   "id": "edb3729f",
   "metadata": {},
   "outputs": [],
   "source": [
    "directory = r'C:\\Users\\Brody\\Documents\\College Material\\Fall 2022\\BIOE 485\\FinalProject\\BraTS2020_training_data\\content\\test\\\\'\n",
    "ds_test = tf.data.Dataset.list_files(str(pathlib.Path(directory+'*.h5')))\n",
    "batch_size = 1\n",
    "ds_test = ds_test.map(process_path).batch(batch_size)"
   ]
  },
  {
   "cell_type": "code",
   "execution_count": 38,
   "id": "f83b0820",
   "metadata": {},
   "outputs": [
    {
     "data": {
      "text/plain": [
       "tensorflow.python.data.ops.dataset_ops.BatchDataset"
      ]
     },
     "execution_count": 38,
     "metadata": {},
     "output_type": "execute_result"
    }
   ],
   "source": [
    "type(ds_test)"
   ]
  },
  {
   "cell_type": "code",
   "execution_count": 39,
   "id": "98b98e65",
   "metadata": {},
   "outputs": [
    {
     "name": "stdout",
     "output_type": "stream",
     "text": [
      "0\n",
      "500\n",
      "1000\n",
      "1500\n",
      "2000\n",
      "2500\n",
      "3000\n",
      "3500\n",
      "4000\n",
      "4500\n",
      "5000\n",
      "5500\n",
      "6000\n",
      "6500\n",
      "7000\n",
      "7500\n",
      "8000\n",
      "8500\n",
      "9000\n",
      "9500\n",
      "10000\n",
      "10500\n",
      "11000\n",
      "11500\n",
      "12000\n",
      "8814260.0\n",
      "2080337740\n",
      "4380743\n",
      "2079089923\n",
      "1247817\n",
      "4433517\n"
     ]
    }
   ],
   "source": [
    "num_tumor = 0\n",
    "num_good = 0\n",
    "num_tumor_correct = 0\n",
    "num_good_correct = 0\n",
    "num_false_tumor = 0\n",
    "num_false_good = 0\n",
    "\n",
    "count = 0\n",
    "for batch in ds_test:\n",
    "    if count % 500 == 0:\n",
    "        print(count)\n",
    "\n",
    "    image, mask = batch\n",
    "    y = model(image).numpy()\n",
    "    mask = mask.numpy()\n",
    "\n",
    "    zeros = y < 0.5\n",
    "    ones = y >= 0.5\n",
    "    y[zeros] = 0.0\n",
    "    y[ones] = 1.0\n",
    "    \n",
    "    num_tumor += np.sum(mask)\n",
    "    num_good += np.sum(mask == 0.0)\n",
    "\n",
    "    num_tumor_correct += np.sum(np.logical_and(y == 1.0, mask == 1.0))\n",
    "    num_good_correct += np.sum(np.logical_and(y == 0.0, mask == 0.0))\n",
    "    num_false_tumor += np.sum(np.logical_and(y == 1.0, mask == 0.0))\n",
    "    num_false_good += np.sum(np.logical_and(y == 0.0, mask == 1.0))\n",
    "        \n",
    "    count += 1\n",
    "    \n",
    "print(num_tumor)\n",
    "print(num_good)\n",
    "print(num_tumor_correct)\n",
    "print(num_good_correct)\n",
    "print(num_false_tumor)\n",
    "print(num_false_good)"
   ]
  },
  {
   "cell_type": "code",
   "execution_count": 40,
   "id": "b34ed245",
   "metadata": {},
   "outputs": [
    {
     "name": "stdout",
     "output_type": "stream",
     "text": [
      "unet_model_three_epochs_w_shuffle.h5\n",
      "PPV:  0.49700632838150904\n",
      "NPV:  0.9994001853756689\n",
      "Sensitivity:  0.49700632838150904\n",
      "Specificity:  0.9994001853756689\n"
     ]
    }
   ],
   "source": [
    "print(model_name)\n",
    "print('PPV: ', str(num_tumor_correct/num_tumor))\n",
    "print('NPV: ', str(num_good_correct/num_good))\n",
    "print('Sensitivity: ', str(num_tumor_correct/(num_tumor_correct + num_false_good)))\n",
    "print('Specificity: ', str(num_good_correct/(num_good_correct + num_false_tumor)))"
   ]
  },
  {
   "cell_type": "code",
   "execution_count": null,
   "id": "86a94bd6",
   "metadata": {},
   "outputs": [],
   "source": [
    "loss = np.array([0.7215,0.6941,0.6934,0.6932,0.6932,0.6932,0.6932,0.6932,0.6931,0.6931])\n",
    "epochs = range(1,11)\n",
    "plt.figure()\n",
    "plt.plot(epochs,loss)\n",
    "plt.title('Loss vs Number of Epochs')\n",
    "plt.xlabel('Number of Epochs')\n",
    "plt.ylabel('Binary Cross Entropy Loss')"
   ]
  },
  {
   "cell_type": "code",
   "execution_count": null,
   "id": "e489f1bb",
   "metadata": {},
   "outputs": [],
   "source": [
    "import h5py\n",
    "f = h5py.File(r'C:\\Users\\Brody\\Documents\\College Material\\Fall 2022\\BIOE 485\\FinalProject\\BraTS2020_training_data\\content\\test\\volume_297_slice_80.h5', 'r') \n",
    "image = f['image'][()] \n",
    "mask = f['mask'][()] \n",
    "f.close()\n",
    "\n",
    "image = tf.convert_to_tensor(image, dtype=tf.float32)\n",
    "tf.ensure_shape(image,[240,240,4])\n",
    "image = tf.expand_dims(image,0)\n",
    "y = model.predict(image)\n",
    "y = y[0,:,:,:]\n",
    "\n",
    "zeros = y < 0.5\n",
    "ones = y >= 0.5\n",
    "y[zeros] = 0.0\n",
    "y[ones] = 1.0\n",
    "\n",
    "# Change layer to look at different mask channel\n",
    "layer = 1\n",
    "plt.figure()\n",
    "plt.imshow(y[:,:,layer])\n",
    "plt.figure()\n",
    "plt.imshow(mask[:,:,layer])"
   ]
  },
  {
   "cell_type": "code",
   "execution_count": 21,
   "id": "8e5b6ae2",
   "metadata": {},
   "outputs": [],
   "source": [
    "import h5py\n",
    "import os\n",
    "os.environ[\"TF_CPP_MIN_LOG_LEVEL\"] = \"2\"\n",
    "import tensorflow as tf\n",
    "import pandas as pd\n",
    "from tensorflow import keras\n",
    "from tensorflow.keras import layers\n",
    "import pathlib\n",
    "import matplotlib.pyplot as plt\n",
    "import numpy as np"
   ]
  },
  {
   "cell_type": "code",
   "execution_count": 22,
   "id": "eea99f08",
   "metadata": {},
   "outputs": [],
   "source": [
    "batch_size = 32\n",
    "img_height = 240\n",
    "img_width = 240\n",
    "\n",
    "# Change to be directory of training set\n",
    "directory = r'C:\\Users\\Brody\\Documents\\College Material\\Fall 2022\\BIOE 485\\FinalProject\\BraTS2020_training_data\\content\\data\\\\'\n",
    "ds_train = tf.data.Dataset.list_files(str(pathlib.Path(directory+'*.h5')))"
   ]
  },
  {
   "cell_type": "code",
   "execution_count": 33,
   "id": "bae318af",
   "metadata": {},
   "outputs": [
    {
     "name": "stdout",
     "output_type": "stream",
     "text": [
      "b'C:\\\\Users\\\\Brody\\\\Documents\\\\College Material\\\\Fall 2022\\\\BIOE 485\\\\FinalProject\\\\BraTS2020_training_data\\\\content\\\\data\\\\volume_132_slice_140.h5'\n"
     ]
    }
   ],
   "source": [
    "ds = ds_train.take(1).as_numpy_iterator()\n",
    "for d in ds:\n",
    "    print(d)"
   ]
  },
  {
   "cell_type": "code",
   "execution_count": null,
   "id": "32a9fc83",
   "metadata": {},
   "outputs": [],
   "source": []
  },
  {
   "cell_type": "code",
   "execution_count": null,
   "id": "428ef9da",
   "metadata": {},
   "outputs": [],
   "source": []
  }
 ],
 "metadata": {
  "kernelspec": {
   "display_name": "Python 3 (ipykernel)",
   "language": "python",
   "name": "python3"
  },
  "language_info": {
   "codemirror_mode": {
    "name": "ipython",
    "version": 3
   },
   "file_extension": ".py",
   "mimetype": "text/x-python",
   "name": "python",
   "nbconvert_exporter": "python",
   "pygments_lexer": "ipython3",
   "version": "3.9.15"
  }
 },
 "nbformat": 4,
 "nbformat_minor": 5
}
